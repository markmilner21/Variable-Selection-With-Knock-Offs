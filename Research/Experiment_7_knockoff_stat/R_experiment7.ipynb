{
  "nbformat": 4,
  "nbformat_minor": 0,
  "metadata": {
    "colab": {
      "provenance": [],
      "gpuType": "T4",
      "authorship_tag": "ABX9TyNPlKJm6FTegGzTv4zRBJNg",
      "include_colab_link": true
    },
    "kernelspec": {
      "name": "ir",
      "display_name": "R"
    },
    "language_info": {
      "name": "R"
    },
    "accelerator": "GPU"
  },
  "cells": [
    {
      "cell_type": "markdown",
      "metadata": {
        "id": "view-in-github",
        "colab_type": "text"
      },
      "source": [
        "<a href=\"https://colab.research.google.com/github/markmilner21/Variable-Selection-With-Knock-Offs/blob/main/Research/Experiment_7_knockoff_stat/R_experiment7.ipynb\" target=\"_parent\"><img src=\"https://colab.research.google.com/assets/colab-badge.svg\" alt=\"Open In Colab\"/></a>"
      ]
    },
    {
      "cell_type": "code",
      "execution_count": 1,
      "metadata": {
        "id": "epf5y2dQCDt_",
        "colab": {
          "base_uri": "https://localhost:8080/"
        },
        "outputId": "296fdc71-1753-4390-9fd9-b481af051af9"
      },
      "outputs": [
        {
          "output_type": "stream",
          "name": "stderr",
          "text": [
            "Installing package into ‘/usr/local/lib/R/site-library’\n",
            "(as ‘lib’ is unspecified)\n",
            "\n",
            "also installing the dependencies ‘iterators’, ‘foreach’, ‘shape’, ‘RcppEigen’, ‘Rdsdp’, ‘corpcor’, ‘glmnet’, ‘RSpectra’, ‘gtools’\n",
            "\n",
            "\n"
          ]
        }
      ],
      "source": [
        "install.packages(\"knockoff\")\n",
        "library(knockoff)"
      ]
    },
    {
      "cell_type": "markdown",
      "source": [
        "First Let us define a function to compute the false discovery proportion"
      ],
      "metadata": {
        "id": "MkSqaLINCQ9Z"
      }
    },
    {
      "cell_type": "code",
      "source": [
        "fdp = function(selected,beta){\n",
        "  fdp = sum(beta[selected] == 0) / max(1, length(selected))\n",
        "  return(fdp)\n",
        "}"
      ],
      "metadata": {
        "id": "q5nHcR89CRGD"
      },
      "execution_count": 13,
      "outputs": []
    },
    {
      "cell_type": "markdown",
      "source": [
        "Second Let us define a function to compute the power"
      ],
      "metadata": {
        "id": "-j4339PACRN6"
      }
    },
    {
      "cell_type": "code",
      "source": [
        "power = function(selected,beta) {\n",
        "  TP = sum(beta[selected] != 0)\n",
        "  T = sum(beta != 0)\n",
        "  return(TP / T)}"
      ],
      "metadata": {
        "id": "9YoXxXcECRVm"
      },
      "execution_count": 14,
      "outputs": []
    },
    {
      "cell_type": "markdown",
      "source": [
        "For replicability, let us set a seed"
      ],
      "metadata": {
        "id": "EtFVgksGCRci"
      }
    },
    {
      "cell_type": "code",
      "source": [
        "set.seed(21)"
      ],
      "metadata": {
        "id": "dfwZxlI-CRlD"
      },
      "execution_count": 4,
      "outputs": []
    },
    {
      "cell_type": "markdown",
      "source": [
        "Now, let us define a dfunction that generates all of the necessary data we need (the covariates and the target). In this case, we are generating Gaussian random variables"
      ],
      "metadata": {
        "id": "_52bzVLzCRv6"
      }
    },
    {
      "cell_type": "code",
      "source": [
        "y.sample <- function(n,X,beta){\n",
        "  # X %*% beta + rnorm(n)\n",
        "  rbinom(n, prob=invlogit(X %*% beta), size=1)\n",
        "}\n",
        "\n",
        "invlogit = function(x) {\n",
        "  exp(x) / (1+exp(x))\n",
        "}\n",
        "\n",
        "generate_synthetic_data = function(n,p,relevant_count,amplitude,rho){\n",
        "  mu <- rep(0, p)\n",
        "  Sigma <- toeplitz(rho^(0:(p-1)))\n",
        "  X = matrix(rnorm(n * p), n) %*% chol(Sigma)\n",
        "  nonzero <- sample(p, relevant_count)\n",
        "  beta <- amplitude * (1:p %in% nonzero) / sqrt(n)\n",
        "  y <- factor(y.sample(n,X,beta), levels=c(0,1), labels=c('A','B'))\n",
        "  list(X=X,y=y,beta=beta)\n",
        "}\n",
        "\n",
        "output = generate_synthetic_data(1000,1000,60,4.5,0.25)\n",
        "X = output$X\n",
        "y = output$y\n",
        "beta = output$beta\n",
        "result = knockoff.filter(X, y)\n",
        "result$selected"
      ],
      "metadata": {
        "colab": {
          "base_uri": "https://localhost:8080/",
          "height": 350
        },
        "id": "FSY7C_4PIw88",
        "outputId": "5ac34ae0-8773-499d-8784-aee386e67501"
      },
      "execution_count": 16,
      "outputs": [
        {
          "output_type": "stream",
          "name": "stderr",
          "text": [
            "Warning message:\n",
            "“doParallel is not installed. Without parallelization, the statistics will be slower to compute”\n"
          ]
        },
        {
          "output_type": "error",
          "ename": "ERROR",
          "evalue": "Error in cv_coeffs_glmnet(cbind(X.swap, Xk.swap), y, family = family, : Input y must be numeric.\n",
          "traceback": [
            "Error in cv_coeffs_glmnet(cbind(X.swap, Xk.swap), y, family = family, : Input y must be numeric.\nTraceback:\n",
            "1. statistic(X, Xk, y)",
            "2. cv_coeffs_glmnet(cbind(X.swap, Xk.swap), y, family = family, \n .     parallel = parallel, ...)",
            "3. stop(\"Input y must be numeric.\")",
            "4. .handleSimpleError(function (cnd) \n . {\n .     watcher$capture_plot_and_output()\n .     cnd <- sanitize_call(cnd)\n .     watcher$push(cnd)\n .     switch(on_error, continue = invokeRestart(\"eval_continue\"), \n .         stop = invokeRestart(\"eval_stop\"), error = NULL)\n . }, \"Input y must be numeric.\", base::quote(cv_coeffs_glmnet(cbind(X.swap, \n .     Xk.swap), y, family = family, parallel = parallel, ...)))"
          ]
        }
      ]
    },
    {
      "cell_type": "code",
      "source": [
        "fdp(result$selected,beta)\n",
        "power(result$selected,beta)"
      ],
      "metadata": {
        "colab": {
          "base_uri": "https://localhost:8080/",
          "height": 52
        },
        "id": "d-_bchcOPXqh",
        "outputId": "9efbf7f7-edff-4eb3-e28c-4b903725cb29"
      },
      "execution_count": 6,
      "outputs": [
        {
          "output_type": "display_data",
          "data": {
            "text/html": [
              "0.163934426229508"
            ],
            "text/markdown": "0.163934426229508",
            "text/latex": "0.163934426229508",
            "text/plain": [
              "[1] 0.1639344"
            ]
          },
          "metadata": {}
        },
        {
          "output_type": "display_data",
          "data": {
            "text/html": [
              "0.85"
            ],
            "text/markdown": "0.85",
            "text/latex": "0.85",
            "text/plain": [
              "[1] 0.85"
            ]
          },
          "metadata": {}
        }
      ]
    },
    {
      "cell_type": "markdown",
      "source": [
        "# Testing - INSERT: https://cran.r-project.org/web/packages/knockoff/knockoff.pdf - This needs to be referenced\n",
        "\n",
        "This is experiment 7: modifying the knockoff statistic W_j. We will consider various choices of knockoff statstic"
      ],
      "metadata": {
        "id": "F-HTf4VYFC9G"
      }
    },
    {
      "cell_type": "code",
      "source": [
        "n = 1000\n",
        "p = 1000\n",
        "relevant_count = 50\n",
        "amplitude = 4.5\n",
        "rho = 0.25\n",
        "fdp_s = c()\n",
        "power_s = c()"
      ],
      "metadata": {
        "id": "HNT8J8J2FOVn"
      },
      "execution_count": 7,
      "outputs": []
    },
    {
      "cell_type": "code",
      "source": [
        "current_data = generate_synthetic_data(n, p, relevant_count, amplitude, rho)\n",
        "X = current_data$X\n",
        "nonzero <- sample(p, relevant_count)\n",
        "beta <- amplitude * (1:p %in% nonzero) / sqrt(n)\n",
        "y <- y.sample(n,X,beta)\n",
        "# stat.glmnet_coefdiff (default)\n",
        "result = knockoff.filter(X=X, y=y)\n",
        "current_fdp = fdp(result$selected,beta)\n",
        "current_power = power(result$selected,beta)\n",
        "fdp_s = c(fdp_s, current_fdp)\n",
        "power_s = c(power_s, current_power)\n",
        "# stat.glmnet_lambdadiff\n",
        "# result = knockoff.filter(X=X, y=y, statistic=stat.glmnet_lambdadiff)\n",
        "# current_fdp = fdp(result$selected,beta)\n",
        "# current_power = power(result$selected,beta)\n",
        "# fdp_s = c(fdp_s, current_fdp)\n",
        "# power_s = c(power_s, current_power)\n",
        "# stat.glmnet_lambdasmax\n",
        "result = knockoff.filter(X=X, y=y, statistic=stat.glmnet_lambdasmax)\n",
        "current_fdp = fdp(result$selected,beta)\n",
        "current_power = power(result$selected,beta)\n",
        "fdp_s = c(fdp_s, current_fdp)\n",
        "power_s = c(power_s, current_power)\n",
        "#  stat.lasso_coefdiff\n",
        "result = knockoff.filter(X=X, y=y, statistic=stat.lasso_coefdiff)\n",
        "current_fdp = fdp(result$selected,beta)\n",
        "current_power = power(result$selected,beta)\n",
        "fdp_s = c(fdp_s, current_fdp)\n",
        "power_s = c(power_s, current_power)\n",
        "# stat.lasso_coefdiff_bin\n",
        "# result = knockoff.filter(X=X, y=y, statistic=stat.lasso_coefdiff_bin)\n",
        "# current_fdp = fdp(result$selected,beta)\n",
        "# current_power = power(result$selected,beta)\n",
        "# fdp_s = c(fdp_s, current_fdp)\n",
        "# power_s = c(power_s, current_power)\n",
        "#  stat.lasso_lambdadiff\n",
        "result = knockoff.filter(X=X, y=y, statistic=stat.lasso_lambdadiff )\n",
        "current_fdp = fdp(result$selected,beta)\n",
        "current_power = power(result$selected,beta)\n",
        "fdp_s = c(fdp_s, current_fdp)\n",
        "power_s = c(power_s, current_power)\n",
        "# stat.lasso_lambdadiff_bin\n",
        "# result = knockoff.filter(X=X, y=y, statistic=stat.lasso_lambdadiff_bin)\n",
        "# current_fdp = fdp(result$selected,beta)\n",
        "# current_power = power(result$selected,beta)\n",
        "# fdp_s = c(fdp_s, current_fdp)\n",
        "# power_s = c(power_s, current_power)\n",
        "# stat.lasso_lambdasmax\n",
        "result = knockoff.filter(X=X, y=y, statistic=stat.lasso_lambdasmax)\n",
        "current_fdp = fdp(result$selected,beta)\n",
        "current_power = power(result$selected,beta)\n",
        "fdp_s = c(fdp_s, current_fdp)\n",
        "power_s = c(power_s, current_power)\n",
        "# stat.lasso_lambdasmax_bin\n",
        "# result = knockoff.filter(X=X, y=y, statistic=stat.lasso_lambdasmax_bin)\n",
        "# current_fdp = fdp(result$selected,beta)\n",
        "# current_power = power(result$selected,beta)\n",
        "# fdp_s = c(fdp_s, current_fdp)\n",
        "# power_s = c(power_s, current_power)\n",
        "# stat.random_forest\n",
        "result = knockoff.filter(X=X, y=y, statistic=stat.random_forest)\n",
        "current_fdp = fdp(result$selected,beta)\n",
        "current_power = power(result$selected,beta)\n",
        "fdp_s = c(fdp_s, current_fdp)\n",
        "power_s = c(power_s, current_power)\n",
        "#  stat.sqrt_lasso\n",
        "result = knockoff.filter(X=X, y=y, statistic=stat.sqrt_lasso)\n",
        "current_fdp = fdp(result$selected,beta)\n",
        "current_power = power(result$selected,beta)\n",
        "fdp_s = c(fdp_s, current_fdp)\n",
        "power_s = c(power_s, current_power)\n",
        "#  stat.stability_selection\n",
        "result = knockoff.filter(X=X, y=y, statistic=stat.stability_selection)\n",
        "current_fdp = fdp(result$selected,beta)\n",
        "current_power = power(result$selected,beta)\n",
        "fdp_s = c(fdp_s, current_fdp)\n",
        "power_s = c(power_s, current_power)\n",
        "\n",
        "# Print results to check\n",
        "print(fdp_s)\n",
        "print(power_s)\n",
        "\n"
      ],
      "metadata": {
        "colab": {
          "base_uri": "https://localhost:8080/",
          "height": 332
        },
        "id": "ILbgO_sUFHnW",
        "outputId": "9ad7e227-2c2d-4f6c-d13a-cfa280b8ef5b"
      },
      "execution_count": 10,
      "outputs": [
        {
          "output_type": "stream",
          "name": "stderr",
          "text": [
            "Warning message:\n",
            "“doParallel is not installed. Without parallelization, the statistics will be slower to compute”\n",
            "Warning message:\n",
            "“doParallel is not installed. Without parallelization, the statistics will be slower to compute”\n"
          ]
        },
        {
          "output_type": "error",
          "ename": "ERROR",
          "evalue": "Error: ranger is not installed\n",
          "traceback": [
            "Error: ranger is not installed\nTraceback:\n",
            "1. statistic(X, Xk, y)",
            "2. stop(\"ranger is not installed\", call. = F)",
            "3. .handleSimpleError(function (cnd) \n . {\n .     watcher$capture_plot_and_output()\n .     cnd <- sanitize_call(cnd)\n .     watcher$push(cnd)\n .     switch(on_error, continue = invokeRestart(\"eval_continue\"), \n .         stop = invokeRestart(\"eval_stop\"), error = NULL)\n . }, \"ranger is not installed\", base::quote(NULL))"
          ]
        }
      ]
    },
    {
      "cell_type": "markdown",
      "source": [
        "## Visualising our results\n",
        "\n",
        "Let us now produce some plots"
      ],
      "metadata": {
        "id": "KegVrT-2URdN"
      }
    },
    {
      "cell_type": "code",
      "source": [
        "plot(relevant_counts, fdp_s, type = \"o\", col = \"red\", pch = 16, lty = 1,\n",
        "     xlab = \"Number of Relevant Features\", ylab = \"FDP\",\n",
        "     main = \"FDP vs Relevant Counts\")\n",
        "\n",
        "plot(relevant_counts, power_s, type = \"o\", col = \"blue\", pch = 16, lty = 1,\n",
        "     xlab = \"Number of Relevant Features\", ylab = \"Power\",\n",
        "     main = \"Power vs Relevant Counts\")\n"
      ],
      "metadata": {
        "colab": {
          "base_uri": "https://localhost:8080/",
          "height": 857
        },
        "id": "GVEzkGDDUQ-9",
        "outputId": "37bdd451-a45c-4142-99ad-863a8cf81bb3"
      },
      "execution_count": null,
      "outputs": [
        {
          "output_type": "display_data",
          "data": {
            "text/plain": [
              "Plot with title “FDP vs Relevant Counts”"
            ],
            "image/png": "[encoded data removed]"
          },
          "metadata": {
            "image/png": {
              "width": 420,
              "height": 420
            }
          }
        },
        {
          "output_type": "display_data",
          "data": {
            "text/plain": [
              "Plot with title “Power vs Relevant Counts”"
            ],
            "image/png": "[encoded data removed]"
          },
          "metadata": {
            "image/png": {
              "width": 420,
              "height": 420
            }
          }
        }
      ]
    }
  ]
}